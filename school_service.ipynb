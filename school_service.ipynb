{
 "cells": [
  {
   "cell_type": "code",
   "execution_count": 42,
   "metadata": {
    "collapsed": true
   },
   "outputs": [],
   "source": [
    "import pandas as pd\n",
    "import geopandas as gpd\n",
    "from scipy import spatial\n",
    "from geopy.distance import vincenty\n",
    "import requests\n",
    "import geojson"
   ]
  },
  {
   "cell_type": "code",
   "execution_count": 3,
   "metadata": {},
   "outputs": [
    {
     "name": "stderr",
     "output_type": "stream",
     "text": [
      "/Users/ryanurzha/anaconda/lib/python2.7/site-packages/IPython/core/interactiveshell.py:2717: DtypeWarning: Columns (14) have mixed types. Specify dtype option on import or set low_memory=False.\n",
      "  interactivity=interactivity, compiler=compiler, result=result)\n"
     ]
    }
   ],
   "source": [
    "df_school = pd.read_csv(\"../datagoid/all_school.csv\")"
   ]
  },
  {
   "cell_type": "code",
   "execution_count": 55,
   "metadata": {},
   "outputs": [],
   "source": [
    "df_school['coord'] = df_school.apply(lambda x: (x['lintang'],x['bujur']),axis=1)"
   ]
  },
  {
   "cell_type": "code",
   "execution_count": 56,
   "metadata": {},
   "outputs": [
    {
     "data": {
      "text/html": [
       "<div>\n",
       "<table border=\"1\" class=\"dataframe\">\n",
       "  <thead>\n",
       "    <tr style=\"text-align: right;\">\n",
       "      <th></th>\n",
       "      <th>Unnamed: 0</th>\n",
       "      <th>Unnamed: 0.1</th>\n",
       "      <th>alamat_jalan</th>\n",
       "      <th>bentuk</th>\n",
       "      <th>bujur</th>\n",
       "      <th>id</th>\n",
       "      <th>kabkode</th>\n",
       "      <th>kabupaten_kota</th>\n",
       "      <th>kecamatan</th>\n",
       "      <th>kode_kab_kota</th>\n",
       "      <th>kode_kec</th>\n",
       "      <th>kode_prop</th>\n",
       "      <th>level</th>\n",
       "      <th>lintang</th>\n",
       "      <th>npsn</th>\n",
       "      <th>propinsi</th>\n",
       "      <th>sekolah</th>\n",
       "      <th>status</th>\n",
       "      <th>coord</th>\n",
       "    </tr>\n",
       "  </thead>\n",
       "  <tbody>\n",
       "    <tr>\n",
       "      <th>0</th>\n",
       "      <td>0</td>\n",
       "      <td>0.0</td>\n",
       "      <td>Pulau Panggang Rt. 07/03</td>\n",
       "      <td>SD</td>\n",
       "      <td>106.6025</td>\n",
       "      <td>002A9C94-2BF5-E011-BFDE-6FB199584CC5</td>\n",
       "      <td>10100.0</td>\n",
       "      <td>Kab. Kepulauan Seribu</td>\n",
       "      <td>Kec. Kepulauan Seribu Utara</td>\n",
       "      <td>10100.0</td>\n",
       "      <td>10102.0</td>\n",
       "      <td>10000.0</td>\n",
       "      <td>sd</td>\n",
       "      <td>-5.7397</td>\n",
       "      <td>20104468</td>\n",
       "      <td>Prop. D.K.I. Jakarta</td>\n",
       "      <td>SD NEGERI PULAU PANGGANG 01 PG</td>\n",
       "      <td>N</td>\n",
       "      <td>(-5.7397, 106.6025)</td>\n",
       "    </tr>\n",
       "    <tr>\n",
       "      <th>1</th>\n",
       "      <td>1</td>\n",
       "      <td>1.0</td>\n",
       "      <td>Pulau Harapan Rt. 04/02</td>\n",
       "      <td>SD</td>\n",
       "      <td>106.5798</td>\n",
       "      <td>100C9C94-2BF5-E011-B842-FB97883C6736</td>\n",
       "      <td>10100.0</td>\n",
       "      <td>Kab. Kepulauan Seribu</td>\n",
       "      <td>Kec. Kepulauan Seribu Utara</td>\n",
       "      <td>10100.0</td>\n",
       "      <td>10102.0</td>\n",
       "      <td>10000.0</td>\n",
       "      <td>sd</td>\n",
       "      <td>-5.6536</td>\n",
       "      <td>20104464</td>\n",
       "      <td>Prop. D.K.I. Jakarta</td>\n",
       "      <td>SD NEGERI PULAU HARAPAN 01 PG</td>\n",
       "      <td>N</td>\n",
       "      <td>(-5.6536, 106.5798)</td>\n",
       "    </tr>\n",
       "    <tr>\n",
       "      <th>2</th>\n",
       "      <td>2</td>\n",
       "      <td>2.0</td>\n",
       "      <td>Pulau Panggang Rt. 07/03</td>\n",
       "      <td>SD</td>\n",
       "      <td>106.6024</td>\n",
       "      <td>20659C94-2BF5-E011-906F-335FFCD534E6</td>\n",
       "      <td>10100.0</td>\n",
       "      <td>Kab. Kepulauan Seribu</td>\n",
       "      <td>Kec. Kepulauan Seribu Utara</td>\n",
       "      <td>10100.0</td>\n",
       "      <td>10102.0</td>\n",
       "      <td>10000.0</td>\n",
       "      <td>sd</td>\n",
       "      <td>-5.7397</td>\n",
       "      <td>20104470</td>\n",
       "      <td>Prop. D.K.I. Jakarta</td>\n",
       "      <td>SD NEGERI PULAU PANGGANG 03 PG JAKARTA</td>\n",
       "      <td>N</td>\n",
       "      <td>(-5.7397, 106.6024)</td>\n",
       "    </tr>\n",
       "    <tr>\n",
       "      <th>3</th>\n",
       "      <td>3</td>\n",
       "      <td>3.0</td>\n",
       "      <td>Pulau Payung Rt. 06/04</td>\n",
       "      <td>SD</td>\n",
       "      <td>106.5549</td>\n",
       "      <td>80FD9B94-2BF5-E011-8604-71F029F60680</td>\n",
       "      <td>10100.0</td>\n",
       "      <td>Kab. Kepulauan Seribu</td>\n",
       "      <td>Kec. Kepulauan Seribu Selatan</td>\n",
       "      <td>10100.0</td>\n",
       "      <td>10101.0</td>\n",
       "      <td>10000.0</td>\n",
       "      <td>sd</td>\n",
       "      <td>-5.8223</td>\n",
       "      <td>20104476</td>\n",
       "      <td>Prop. D.K.I. Jakarta</td>\n",
       "      <td>SD NEGERI PULAU TIDUNG 04 PG</td>\n",
       "      <td>N</td>\n",
       "      <td>(-5.8223, 106.5549)</td>\n",
       "    </tr>\n",
       "    <tr>\n",
       "      <th>4</th>\n",
       "      <td>4</td>\n",
       "      <td>4.0</td>\n",
       "      <td>Jl. Pendidikan Rt. 07/02</td>\n",
       "      <td>SD</td>\n",
       "      <td>106.4926</td>\n",
       "      <td>50D19B94-2BF5-E011-8BCB-579EB8758510</td>\n",
       "      <td>10100.0</td>\n",
       "      <td>Kab. Kepulauan Seribu</td>\n",
       "      <td>Kec. Kepulauan Seribu Selatan</td>\n",
       "      <td>10100.0</td>\n",
       "      <td>10101.0</td>\n",
       "      <td>10000.0</td>\n",
       "      <td>sd</td>\n",
       "      <td>-5.7964</td>\n",
       "      <td>20104475</td>\n",
       "      <td>Prop. D.K.I. Jakarta</td>\n",
       "      <td>SD NEGERI PULAU TIDUNG 03 PG</td>\n",
       "      <td>N</td>\n",
       "      <td>(-5.7964, 106.4926)</td>\n",
       "    </tr>\n",
       "  </tbody>\n",
       "</table>\n",
       "</div>"
      ],
      "text/plain": [
       "   Unnamed: 0  Unnamed: 0.1              alamat_jalan bentuk     bujur  \\\n",
       "0           0           0.0  Pulau Panggang Rt. 07/03     SD  106.6025   \n",
       "1           1           1.0   Pulau Harapan Rt. 04/02     SD  106.5798   \n",
       "2           2           2.0  Pulau Panggang Rt. 07/03     SD  106.6024   \n",
       "3           3           3.0    Pulau Payung Rt. 06/04     SD  106.5549   \n",
       "4           4           4.0  Jl. Pendidikan Rt. 07/02     SD  106.4926   \n",
       "\n",
       "                                     id  kabkode         kabupaten_kota  \\\n",
       "0  002A9C94-2BF5-E011-BFDE-6FB199584CC5  10100.0  Kab. Kepulauan Seribu   \n",
       "1  100C9C94-2BF5-E011-B842-FB97883C6736  10100.0  Kab. Kepulauan Seribu   \n",
       "2  20659C94-2BF5-E011-906F-335FFCD534E6  10100.0  Kab. Kepulauan Seribu   \n",
       "3  80FD9B94-2BF5-E011-8604-71F029F60680  10100.0  Kab. Kepulauan Seribu   \n",
       "4  50D19B94-2BF5-E011-8BCB-579EB8758510  10100.0  Kab. Kepulauan Seribu   \n",
       "\n",
       "                       kecamatan  kode_kab_kota  kode_kec  kode_prop level  \\\n",
       "0    Kec. Kepulauan Seribu Utara        10100.0   10102.0    10000.0    sd   \n",
       "1    Kec. Kepulauan Seribu Utara        10100.0   10102.0    10000.0    sd   \n",
       "2    Kec. Kepulauan Seribu Utara        10100.0   10102.0    10000.0    sd   \n",
       "3  Kec. Kepulauan Seribu Selatan        10100.0   10101.0    10000.0    sd   \n",
       "4  Kec. Kepulauan Seribu Selatan        10100.0   10101.0    10000.0    sd   \n",
       "\n",
       "   lintang      npsn              propinsi  \\\n",
       "0  -5.7397  20104468  Prop. D.K.I. Jakarta   \n",
       "1  -5.6536  20104464  Prop. D.K.I. Jakarta   \n",
       "2  -5.7397  20104470  Prop. D.K.I. Jakarta   \n",
       "3  -5.8223  20104476  Prop. D.K.I. Jakarta   \n",
       "4  -5.7964  20104475  Prop. D.K.I. Jakarta   \n",
       "\n",
       "                                  sekolah status                coord  \n",
       "0          SD NEGERI PULAU PANGGANG 01 PG      N  (-5.7397, 106.6025)  \n",
       "1           SD NEGERI PULAU HARAPAN 01 PG      N  (-5.6536, 106.5798)  \n",
       "2  SD NEGERI PULAU PANGGANG 03 PG JAKARTA      N  (-5.7397, 106.6024)  \n",
       "3            SD NEGERI PULAU TIDUNG 04 PG      N  (-5.8223, 106.5549)  \n",
       "4            SD NEGERI PULAU TIDUNG 03 PG      N  (-5.7964, 106.4926)  "
      ]
     },
     "execution_count": 56,
     "metadata": {},
     "output_type": "execute_result"
    }
   ],
   "source": [
    "df_school.head()"
   ]
  },
  {
   "cell_type": "code",
   "execution_count": 57,
   "metadata": {},
   "outputs": [],
   "source": [
    "df_jakarta = df_school[df_school.kode_prop==10000]"
   ]
  },
  {
   "cell_type": "code",
   "execution_count": 58,
   "metadata": {},
   "outputs": [
    {
     "name": "stderr",
     "output_type": "stream",
     "text": [
      "/Users/ryanurzha/anaconda/lib/python2.7/site-packages/ipykernel/__main__.py:1: UserWarning: Boolean Series key will be reindexed to match DataFrame index.\n",
      "  if __name__ == '__main__':\n",
      "/Users/ryanurzha/anaconda/lib/python2.7/site-packages/ipykernel/__main__.py:2: UserWarning: Boolean Series key will be reindexed to match DataFrame index.\n",
      "  from ipykernel import kernelapp as app\n",
      "/Users/ryanurzha/anaconda/lib/python2.7/site-packages/ipykernel/__main__.py:3: UserWarning: Boolean Series key will be reindexed to match DataFrame index.\n",
      "  app.launch_new_instance()\n"
     ]
    }
   ],
   "source": [
    "d_sd = df_jakarta[df_school.level=='sd'][['npsn','coord']].to_dict(orient='records')\n",
    "d_smp = df_jakarta[df_school.level=='smp'][['npsn','coord']].to_dict(orient='records')\n",
    "d_sma = df_jakarta[df_school.level=='sma'][['npsn','coord']].to_dict(orient='records')"
   ]
  },
  {
   "cell_type": "code",
   "execution_count": 59,
   "metadata": {},
   "outputs": [
    {
     "data": {
      "text/plain": [
       "1096"
      ]
     },
     "execution_count": 59,
     "metadata": {},
     "output_type": "execute_result"
    }
   ],
   "source": [
    "len(d_smp)"
   ]
  },
  {
   "cell_type": "code",
   "execution_count": 60,
   "metadata": {
    "collapsed": true
   },
   "outputs": [],
   "source": [
    "randompoint = (-6.265795, 106.820634)"
   ]
  },
  {
   "cell_type": "code",
   "execution_count": 61,
   "metadata": {},
   "outputs": [
    {
     "name": "stdout",
     "output_type": "stream",
     "text": [
      "(-5.7985, 106.5003)\n",
      "(-5.8578, 106.6196)\n",
      "(-5.7772, 106.5053)\n",
      "(-5.7471, 106.6138)\n",
      "(-5.9788, 106.7098)\n"
     ]
    }
   ],
   "source": [
    "for i in d_smp[0:5]:\n",
    "    print(i['coord'])"
   ]
  },
  {
   "cell_type": "code",
   "execution_count": 64,
   "metadata": {
    "collapsed": true
   },
   "outputs": [],
   "source": [
    "def findnearest(point,num,poi_list):\n",
    "    #using vincenty great circle distance\n",
    "    #overkill i kno\n",
    "    for p in poi_list:\n",
    "        p['dist'] = vincenty(p['coord'],point).meters\n",
    "    return(sorted(poi_list, key=lambda x: x['dist'])[0:num])"
   ]
  },
  {
   "cell_type": "code",
   "execution_count": 66,
   "metadata": {},
   "outputs": [],
   "source": [
    "top5_smp = findnearest(randompoint,5,d_smp)"
   ]
  },
  {
   "cell_type": "code",
   "execution_count": 67,
   "metadata": {},
   "outputs": [
    {
     "data": {
      "text/plain": [
       "[{'coord': (-6.2649, 106.8239),\n",
       "  'dist': 374.71998113342534,\n",
       "  'npsn': '20102508'},\n",
       " {'coord': (-6.272, 106.8216), 'dist': 694.4717739444661, 'npsn': '69892782'},\n",
       " {'coord': (-6.2565, 106.8209), 'dist': 1028.332036309646, 'npsn': '69756890'},\n",
       " {'coord': (-6.258036, 106.814097),\n",
       "  'dist': 1122.2875411121026,\n",
       "  'npsn': '69889002'},\n",
       " {'coord': (-6.2601, 106.8299),\n",
       "  'dist': 1203.3405144733151,\n",
       "  'npsn': '20108330'}]"
      ]
     },
     "execution_count": 67,
     "metadata": {},
     "output_type": "execute_result"
    }
   ],
   "source": [
    "top5_smp"
   ]
  },
  {
   "cell_type": "code",
   "execution_count": null,
   "metadata": {
    "collapsed": true
   },
   "outputs": [],
   "source": []
  }
 ],
 "metadata": {
  "kernelspec": {
   "display_name": "Python 2",
   "language": "python",
   "name": "python2"
  },
  "language_info": {
   "codemirror_mode": {
    "name": "ipython",
    "version": 2
   },
   "file_extension": ".py",
   "mimetype": "text/x-python",
   "name": "python",
   "nbconvert_exporter": "python",
   "pygments_lexer": "ipython2",
   "version": "2.7.13"
  }
 },
 "nbformat": 4,
 "nbformat_minor": 2
}
